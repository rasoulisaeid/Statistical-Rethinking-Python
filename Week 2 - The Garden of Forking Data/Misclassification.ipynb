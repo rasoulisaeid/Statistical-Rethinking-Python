{
 "cells": [
  {
   "cell_type": "code",
   "execution_count": 6,
   "metadata": {},
   "outputs": [
    {
     "data": {
      "text/plain": [
       "array(['W', 'L', 'W', 'W', 'W', 'W', 'W', 'W', 'L', 'L'], dtype='<U1')"
      ]
     },
     "execution_count": 6,
     "metadata": {},
     "output_type": "execute_result"
    }
   ],
   "source": [
    "import numpy as np\n",
    "\n",
    "N = 10\n",
    "p = 0.7\n",
    "true_sample = np.random.choice([\"W\", \"L\"], size=N, p=[p, 1-p], replace=True)\n",
    "true_sample"
   ]
  },
  {
   "cell_type": "markdown",
   "metadata": {},
   "source": [
    "<img src=\"images/image22.png\" width=\"600\" height=\"400\" /> \n",
    "<img src=\"images/image23.png\" width=\"500\" height=\"300\" /> "
   ]
  },
  {
   "cell_type": "code",
   "execution_count": 4,
   "metadata": {},
   "outputs": [],
   "source": [
    "def error(x, obs):\n",
    "    all = [\"W\", \"L\"]\n",
    "    rnd_x = np.random.rand()\n",
    "    if rnd_x <= x:\n",
    "        all.remove(obs)\n",
    "        return all[0]\n",
    "    else:\n",
    "        return obs\n",
    "\n",
    "def sim_globe_2(p=0.7, N=9, x=0.1):\n",
    "    true_sample = np.random.choice(a=[\"W\", \"L\"], size=N, p=[p, 1-p], replace=True)\n",
    "    obs_sample = [error(x, item) for item in true_sample]\n",
    "    return list(obs_sample)"
   ]
  },
  {
   "cell_type": "code",
   "execution_count": 7,
   "metadata": {},
   "outputs": [
    {
     "name": "stdout",
     "output_type": "stream",
     "text": [
      "['L', 'L', 'L', 'W', 'W', 'W', 'W', 'W', 'L', 'W']\n",
      "Proportion: 0.6\n"
     ]
    }
   ],
   "source": [
    "p = 0.6\n",
    "error_rate = 0.1\n",
    "sample = sim_globe_2(p, N, error_rate)\n",
    "\n",
    "print(sample)\n",
    "print(f\"Proportion: {sample.count('W') / N}\")"
   ]
  },
  {
   "cell_type": "markdown",
   "metadata": {},
   "source": [
    "<img src=\"images/image24.png\" width=\"600\" height=\"400\" /> <img src=\"images/image25.png\" width=\"600\" height=\"400\" />\n",
    "<img src=\"images/image26.png\" width=\"600\" height=\"400\" /> <img src=\"images/image27.png\" width=\"600\" height=\"400\" /> \n",
    "\n",
    "--------------------------------"
   ]
  },
  {
   "cell_type": "markdown",
   "metadata": {},
   "source": [
    "<img src=\"images/image28.png\" width=\"600\" height=\"400\" /> <img src=\"images/image29.png\" width=\"600\" height=\"400\" /> "
   ]
  },
  {
   "cell_type": "code",
   "execution_count": null,
   "metadata": {},
   "outputs": [],
   "source": []
  }
 ],
 "metadata": {
  "kernelspec": {
   "display_name": "base",
   "language": "python",
   "name": "python3"
  },
  "language_info": {
   "codemirror_mode": {
    "name": "ipython",
    "version": 3
   },
   "file_extension": ".py",
   "mimetype": "text/x-python",
   "name": "python",
   "nbconvert_exporter": "python",
   "pygments_lexer": "ipython3",
   "version": "3.10.9"
  }
 },
 "nbformat": 4,
 "nbformat_minor": 2
}
