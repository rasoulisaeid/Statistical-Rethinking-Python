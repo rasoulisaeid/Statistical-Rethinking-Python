{
 "cells": [
  {
   "cell_type": "markdown",
   "metadata": {},
   "source": [
    "### Causal Relations\n",
    "\n",
    "<img src=\"images/image1.jpeg\" width=\"600\" height=\"400\" /> \n",
    "\n",
    "#### For most interventions on height, they will necessarily influence on weight but there are fewer intervention on weight that influence height.\n",
    "\n",
    "<img src=\"images/image2.jpeg\" width=\"600\" height=\"400\" /> <img src=\"images/image3.jpeg\" width=\"600\" height=\"400\" />"
   ]
  },
  {
   "cell_type": "markdown",
   "metadata": {},
   "source": [
    "#### Height influences weight and sex influences both on height and sex. The effect of height on weight is directly while sex influences directly and also indirectly on weight by it's effect on height.\n",
    "\n",
    "<img src=\"images/image4.jpeg\" width=\"600\" height=\"400\" /> <video controls width=\"600\" height=\"400\" src=\"files/recording1.mp4\" title=\"Animation\"></video>"
   ]
  },
  {
   "cell_type": "markdown",
   "metadata": {},
   "source": [
    "### Unmeasured Causes\n",
    "Unmeasured causes are those influences on variables that are not directly observed or included in a model. These can generate variation in each of the measured variables and are typically represented as stochastic variables in a generative model. They are considered ignorable unless they're shared among the measured variables, which could introduce confounds.\n",
    "\n",
    "### Temperature and Sex Determination in Turtles\n",
    "In some species, such as turtles and lizards, sex determination is influenced by ambient temperature during gestation. For example, in turtles, warmer temperatures tend to produce more females, while cooler temperatures produce more males. This temperature-based sex determination also indirectly influences other traits like body weight, as temperature affects the ecology and availability of food.\n",
    "\n",
    "### Confounds\n",
    "A confound is an unmeasured common cause that affects multiple variables within a study. If not accounted for, confounds can lead to incorrect conclusions about the relationships between variables. In causal modeling, it's crucial to consider potential confounds and either measure them or adjust the analysis to account for their influence.\n",
    "\n",
    "\n",
    "<img src=\"images/image5.jpeg\" width=\"600\" height=\"400\" /> <img src=\"images/image6.jpeg\" width=\"600\" height=\"400\" />"
   ]
  },
  {
   "cell_type": "markdown",
   "metadata": {},
   "source": [
    "--------------------------------"
   ]
  },
  {
   "cell_type": "markdown",
   "metadata": {},
   "source": [
    "<img src=\"images/image8.jpeg\" width=\"600\" height=\"400\" /> <img src=\"images/image9.jpeg\" width=\"600\" height=\"400\" />"
   ]
  },
  {
   "cell_type": "markdown",
   "metadata": {},
   "source": [
    "<img src=\"images/image10.jpeg\" width=\"600\" height=\"400\" /> <img src=\"images/image11.jpeg\" width=\"600\" height=\"400\" />"
   ]
  },
  {
   "cell_type": "markdown",
   "metadata": {},
   "source": [
    "# Understanding Differences in Mean Weights\n",
    "\n",
    "## Introduction\n",
    "\n",
    "To understand the difference in mean weights between two categories (e.g., men and women), we analyze their posterior distributions. The key is to compute the contrast, which is the difference between the means of the two categories.\n",
    "\n",
    "## Posterior Distributions\n",
    "\n",
    "- **Posterior distributions** represent our updated beliefs about the parameters (mean weights) after incorporating observed data.\n",
    "\n",
    "## Computing the Contrast\n",
    "\n",
    "To determine the difference in mean weights:\n",
    "\n",
    "1. **Simulate from Posterior Distributions**:\n",
    "   - Draw samples from the posterior distributions of the mean weights for both categories.\n",
    "   - Calculate the difference in means for each pair of samples.\n",
    "\n",
    "2. **Assessing Overlap and Difference**:\n",
    "   - Even if individual weight distributions overlap, it does not mean the means are the same.\n",
    "   - The key is the distribution of the differences in means, not the overlap of individual values.\n",
    "\n",
    "<img src=\"images/image16.jpeg\" width=\"600\" height=\"400\" /> <img src=\"images/image17.jpeg\" width=\"600\" height=\"400\" />\n",
    "\n",
    "\n",
    "## Statistical Significance of the Difference\n",
    "\n",
    "- **Overlap of Distributions**:\n",
    "  - Overlap in individual distributions does not imply a lack of difference in means.\n",
    "  - The posterior distribution of the differences provides a reliable estimate of whether the means are different.\n",
    "\n",
    "## Practical Implications\n",
    "\n",
    "1. **Mean Differences**:\n",
    "   - The computed contrast provides a range for the difference in mean weights between the categories.\n",
    "\n",
    "2. **Real-Life Context**:\n",
    "   - Despite overlaps in individual weights, the difference in means can be statistically significant and practically meaningful.\n",
    "   - For example, it can indicate the probability that a randomly selected individual from one category weighs more than one from another category.\n",
    "\n",
    "## Conclusion\n",
    "\n",
    "Overlap in individual distributions does not negate a statistically significant difference between means. The contrast (difference in posterior distributions) is crucial for understanding and quantifying the differences between categories. Always compute and interpret this contrast to make informed decisions."
   ]
  },
  {
   "cell_type": "markdown",
   "metadata": {},
   "source": [
    "<img src=\"images/image20.jpeg\" width=\"600\" height=\"400\" /> <img src=\"images/image21.jpeg\" width=\"600\" height=\"400\" />"
   ]
  },
  {
   "cell_type": "markdown",
   "metadata": {},
   "source": [
    "## Estimating the Causal Effect of Sex on Weight\n",
    "\n",
    "We've addressed the total causal effect of sex on weight using two contrasts:\n",
    "- **Means comparison**: Examines the difference in average weights.\n",
    "- **Distributional comparison**: Considers the entire weight distribution.\n",
    "\n",
    "### Causal Effect Analysis\n",
    "- **Hypothetical Intervention**: Considers the effect of changing someone's birth sex on their weight.\n",
    "- **Distributional Estimates**: These plots are distributions. Points are decisions, not scientific estimates. The statistical estimate with all scientific information is the distribution.\n",
    "\n",
    "### Direct Causal Effect of Sex on Weight\n",
    "To understand the direct causal effect of sex on weight, we need a new model to partial out the indirect effect of height. Instead of \"control,\" we use \"block\" or \"stratify.\"\n",
    "\n",
    "### Generative Model Parameters\n",
    "- **Indirect Effect Parameters**: Influence the indirect effect.\n",
    "- **Direct Effect Parameters**: Represent the direct effect. For example, men are 10 kg heavier on average regardless of height.\n",
    "\n",
    "### Simulation and Analysis\n",
    "In our simulation:\n",
    "- **Same Slopes for Both Sexes**: The effect of height on weight is identical for men and women.\n",
    "- **Direct Effect Simulation**: Men are consistently 10 kg heavier regardless of height. Regression lines have the same slope but different intercepts due to this direct effect.\n",
    "\n",
    "<img src=\"images/image23.jpeg\" width=\"600\" height=\"400\" />\n",
    "\n",
    "\n",
    "### Developing a Statistical Model\n",
    "To model this, we augment our linear model to include height, which allows us to stratify by height. We use a technique called **centering**, subtracting the average height (h̅) to simplify interpretation.\n",
    "\n",
    "### Centering Explained\n",
    "- **Alpha (α)**: Expected weight at the average height.\n",
    "- **Beta (β)**: Effect of height on weight.\n",
    "- **Benefits of Centering**:\n",
    "  - Simplifies software calculations.\n",
    "  - Easier to conceptualize priors.\n",
    "  - Alpha directly represents average weight at average height.\n",
    "\n",
    "   <img src=\"images/image24.jpeg\" width=\"600\" height=\"400\" /> \n",
    "\n",
    "### Regression Line and Grand Mean\n",
    "The regression line passes through the grand mean of the data. If an individual's height is average, the best guess for their weight is the average weight. The grand mean, where the average height and weight intersect, is pivotal.\n",
    "\n",
    " <img src=\"images/image25.jpeg\" width=\"600\" height=\"400\" />\n",
    "\n",
    "### Summary\n",
    "- **Points in Data**: Centered around the grand mean.\n",
    "- **Regression Lines**: Reflect expectations, pivoting around the grand mean.\n",
    "- **Alpha's Role**: Expected weight at the average height simplifies modeling.\n",
    "\n",
    "> **Note**: Centering helps by making alpha the expected weight at average height, streamlining many modeling tasks."
   ]
  },
  {
   "cell_type": "markdown",
   "metadata": {},
   "source": [
    "### Stratifying by Categorical Variables\n",
    "Stratifying by categorical variables, like sex, simplifies modeling tasks. We allow both the slope and intercept (alpha) to vary by sex. This adjustment is straightforward in code, using subscripted variables.\n",
    "\n",
    "### Example of Stratification\n",
    "- **Addressing in Vectors**: Each sex has a specific address in the alpha and beta vectors.\n",
    "  - **Male (S = 2)**: Address 2 in both vectors.\n",
    "  - **Female (S = 1)**: Address 1 in both vectors.\n",
    "- **Data Simulation**: Testing with synthetic data to understand the stratified model.\n",
    "\n",
    " <img src=\"images/image26.jpeg\" width=\"600\" height=\"400\" />\n",
    "\n",
    "### Analyzing the Direct Effect\n",
    "To estimate the direct effect of sex on weight, we:\n",
    "1. **Simulate Individuals**: For each height, simulate expected weights for men and women.\n",
    "2. **Compute Differences**: Calculate the difference in expected weights at each height.\n",
    "\n",
    "<img src=\"images/image28.jpeg\" width=\"600\" height=\"400\" />\n",
    "\n",
    "### Simulation Process\n",
    "- **Link Function**: From the rethinking package, used for simulation.\n",
    "- **Data Inputs**: S vector of ones (for females) and twos (for males).\n",
    "- **Posterior Distribution**: Difference in expected weights between men and women at each height.\n",
    "\n",
    "### Results Interpretation\n",
    "- **Posterior Distribution Plot**: Shows differences in expected weights across heights.\n",
    "  - **Horizontal Line at Zero**: Indicates negligible differences at most heights.\n",
    "  - **Small Differences**: Men slightly heavier at very tall and short heights.\n",
    "\n",
    "### Key Insight\n",
    "- **Causal Effect Through Height**: Nearly all the causal effect of sex on weight is mediated through height differences.\n",
    "  - **Big Mean Differences**: Observable due to men being generally taller.\n",
    "  - **Direct Effect**: Minimal direct effect of sex on weight after accounting for height.\n",
    "\n",
    "### Summary\n",
    "- **Total Causal Effect**: Estimated on the left.\n",
    "- **Direct Causal Effect**: Estimated on the right, showing almost no direct effect of sex on weight.\n",
    "\n",
    "> **Conclusion**: The primary factor in the causal effect of sex on weight is height, with negligible direct effect of sex itself."
   ]
  },
  {
   "cell_type": "markdown",
   "metadata": {},
   "source": [
    "<img src=\"images/image30.jpeg\" width=\"600\" height=\"400\" />\n",
    "\n",
    "##### We found that, on average, men weigh more than women. However, upon controlling for height we observed that this weight difference largely diminishes. This indicates that the observed weight disparity between men and women can be primarily attributed to differences in height. Interestingly, as height increases, women tend to surpass men slightly in average height. So, we can conclude that **almost all of the causal effect of sex is through height.**\n",
    "\n",
    "<img src=\"images/image31.jpeg\" width=\"600\" height=\"400\" />"
   ]
  },
  {
   "cell_type": "markdown",
   "metadata": {},
   "source": []
  }
 ],
 "metadata": {
  "kernelspec": {
   "display_name": "base",
   "language": "python",
   "name": "python3"
  },
  "language_info": {
   "codemirror_mode": {
    "name": "ipython",
    "version": 3
   },
   "file_extension": ".py",
   "mimetype": "text/x-python",
   "name": "python",
   "nbconvert_exporter": "python",
   "pygments_lexer": "ipython3",
   "version": "3.10.9"
  }
 },
 "nbformat": 4,
 "nbformat_minor": 2
}
